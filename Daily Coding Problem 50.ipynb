{
 "cells": [
  {
   "cell_type": "markdown",
   "id": "4bcd1f2b",
   "metadata": {},
   "source": [
    "# Daily Coding Problem 50"
   ]
  },
  {
   "cell_type": "raw",
   "id": "0f26ae9e",
   "metadata": {},
   "source": [
    "This problem was asked by Microsoft.\n",
    "\n",
    "Suppose an arithmetic expression is given as a binary tree. Each leaf is an integer and each internal node is one of '+', '−', '∗', or '/'.\n",
    "\n",
    "Given the root to such a tree, write a function to evaluate it.\n",
    "\n",
    "For example, given the following tree:\n",
    "    *\n",
    "   / \\\n",
    "  +    +\n",
    " / \\  / \\\n",
    "3  2  4  5\n",
    "You should return 45, as it is (3 + 2) * (4 + 5)."
   ]
  },
  {
   "cell_type": "markdown",
   "id": "2bc42b06",
   "metadata": {},
   "source": [
    "# Solution\n",
    "\n",
    "This problem should be straightforward from the definition. It will be recursive. We check the value of the root node. If it's one of our arithmetic operators, then we take the evaluated value of our node's children and apply the operator on them.\n",
    "\n",
    "If it's not an arithmetic operator, it has to be a raw number, so we can just return that.\n",
    "\n"
   ]
  },
  {
   "cell_type": "code",
   "execution_count": null,
   "id": "12e70cac",
   "metadata": {},
   "outputs": [],
   "source": [
    "class Node:\n",
    "    def __init__(self, val, left=None, right=None):\n",
    "        self.val = val\n",
    "        self.left = left\n",
    "        self.right = right\n",
    "\n",
    "PLUS = \"+\"\n",
    "MINUS = \"-\"\n",
    "TIMES = \"*\"\n",
    "DIVIDE = \"/\"\n",
    "def evaluate(root):\n",
    "    if root.val == PLUS:\n",
    "        return evaluate(root.left) + evaluate(root.right)\n",
    "    elif root.val == MINUS:\n",
    "        return evaluate(root.left) - evaluate(root.right)\n",
    "    elif root.val == TIMES:\n",
    "        return evaluate(root.left) * evaluate(root.right)\n",
    "    elif root.val == DIVIDE:\n",
    "        return evaluate(root.left) / evaluate(root.right)\n",
    "    else:\n",
    "        return root.val"
   ]
  },
  {
   "cell_type": "markdown",
   "id": "17c4f24e",
   "metadata": {},
   "source": [
    "This runs in O(N) time and space."
   ]
  },
  {
   "cell_type": "code",
   "execution_count": null,
   "id": "720a227c",
   "metadata": {},
   "outputs": [],
   "source": []
  }
 ],
 "metadata": {
  "kernelspec": {
   "display_name": "Python 3 (ipykernel)",
   "language": "python",
   "name": "python3"
  },
  "language_info": {
   "codemirror_mode": {
    "name": "ipython",
    "version": 3
   },
   "file_extension": ".py",
   "mimetype": "text/x-python",
   "name": "python",
   "nbconvert_exporter": "python",
   "pygments_lexer": "ipython3",
   "version": "3.8.10"
  }
 },
 "nbformat": 4,
 "nbformat_minor": 5
}
